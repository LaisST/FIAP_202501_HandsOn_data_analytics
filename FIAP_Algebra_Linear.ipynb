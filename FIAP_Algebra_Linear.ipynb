{
  "nbformat": 4,
  "nbformat_minor": 0,
  "metadata": {
    "colab": {
      "provenance": [],
      "authorship_tag": "ABX9TyM4bxEk0h3Br96hSzeKkYEd",
      "include_colab_link": true
    },
    "kernelspec": {
      "name": "python3",
      "display_name": "Python 3"
    },
    "language_info": {
      "name": "python"
    }
  },
  "cells": [
    {
      "cell_type": "markdown",
      "metadata": {
        "id": "view-in-github",
        "colab_type": "text"
      },
      "source": [
        "<a href=\"https://colab.research.google.com/github/LaisST/FIAP_202501_HandsOn_data_analytics/blob/main/FIAP_Algebra_Linear.ipynb\" target=\"_parent\"><img src=\"https://colab.research.google.com/assets/colab-badge.svg\" alt=\"Open In Colab\"/></a>"
      ]
    },
    {
      "cell_type": "markdown",
      "source": [
        "# INTRODUÇÃO A ÁLGEBRA LINEAR PARA CIENTISTA DE DADOS"
      ],
      "metadata": {
        "id": "U2KbJQ0iGKaH"
      }
    },
    {
      "cell_type": "code",
      "execution_count": 9,
      "metadata": {
        "id": "KQDaz3wUGBVa"
      },
      "outputs": [],
      "source": [
        "#Importação das bibliotecas\n",
        "import numpy as np"
      ]
    },
    {
      "cell_type": "code",
      "source": [
        "#Construir a matriz dos coeficientes\n",
        "A = np.array([[2,3],\n",
        "              [5,7]])"
      ],
      "metadata": {
        "id": "tqeT2TZUGlww"
      },
      "execution_count": 10,
      "outputs": []
    },
    {
      "cell_type": "code",
      "source": [
        "B = np.array([8,19])"
      ],
      "metadata": {
        "id": "qVrSLtOwHHTO"
      },
      "execution_count": 11,
      "outputs": []
    },
    {
      "cell_type": "code",
      "source": [
        "#Resolver o sistema\n",
        "solucao = np.linalg.solve(A,B)\n",
        "\n",
        "print(f\"Valores de x e y: {solucao}\")"
      ],
      "metadata": {
        "colab": {
          "base_uri": "https://localhost:8080/"
        },
        "id": "y5yVltX8HO8j",
        "outputId": "460dd58b-dc26-4a64-be0f-ad605386b1d8"
      },
      "execution_count": 12,
      "outputs": [
        {
          "output_type": "stream",
          "name": "stdout",
          "text": [
            "Valores de x e y: [1. 2.]\n"
          ]
        }
      ]
    },
    {
      "cell_type": "markdown",
      "source": [
        "### Usando o Sympy"
      ],
      "metadata": {
        "id": "Gu7viY6OUR9c"
      }
    },
    {
      "cell_type": "code",
      "source": [
        "from sympy import symbols, Eq, solve"
      ],
      "metadata": {
        "id": "kZtma99oHe6T"
      },
      "execution_count": 13,
      "outputs": []
    },
    {
      "cell_type": "markdown",
      "source": [],
      "metadata": {
        "id": "dYQWm_cnURhL"
      }
    },
    {
      "cell_type": "code",
      "source": [
        "#Definir as variáveis\n",
        "x, y = symbols('x y')\n",
        "\n",
        "#Definir as equações\n",
        "eq1 = Eq(2*x + 3*y, 8)\n",
        "eq2 = Eq(5*x + 7*y, 19)\n",
        "\n",
        "#Resolver o sistema\n",
        "solucao = solve((eq1, eq2), (x, y))\n",
        "print(solucao)"
      ],
      "metadata": {
        "colab": {
          "base_uri": "https://localhost:8080/"
        },
        "id": "ZnYgGVBPUP3-",
        "outputId": "e1df1816-33ed-4aaf-ed07-d8c14af98c67"
      },
      "execution_count": 14,
      "outputs": [
        {
          "output_type": "stream",
          "name": "stdout",
          "text": [
            "{x: 1, y: 2}\n"
          ]
        }
      ]
    },
    {
      "cell_type": "markdown",
      "source": [
        "## Matrizes"
      ],
      "metadata": {
        "id": "b7cxJgmgo1Vv"
      }
    },
    {
      "cell_type": "code",
      "source": [
        "import numpy as np\n",
        "\n",
        "A = np.array([[1, 2, 3],\n",
        "              [4, 5, 6]])\n",
        "\n",
        "B = np.array([[7, 8],\n",
        "              [9, 10],\n",
        "              [11, 12]])\n",
        "\n",
        "C = np.dot(A, B)\n",
        "\n",
        "print(C)\n"
      ],
      "metadata": {
        "id": "k01RdGeMU0GL",
        "colab": {
          "base_uri": "https://localhost:8080/"
        },
        "outputId": "1f2acc27-4870-4276-df54-07d2b2060d2b"
      },
      "execution_count": 15,
      "outputs": [
        {
          "output_type": "stream",
          "name": "stdout",
          "text": [
            "[[ 58  64]\n",
            " [139 154]]\n"
          ]
        }
      ]
    },
    {
      "cell_type": "code",
      "source": [
        "#Criar matrizes A e B\n",
        "A = np.array([[1,2],\n",
        "              [3,4]])\n",
        "\n",
        "B = np.array([[5,6],\n",
        "              [7,8]])\n",
        "\n",
        "print(f'Matriz A:\\n {A}')\n",
        "print(f'Matriz B:\\n {B}')"
      ],
      "metadata": {
        "colab": {
          "base_uri": "https://localhost:8080/"
        },
        "id": "gDHxWm52o4Wu",
        "outputId": "a0f3f4ed-7e2a-47be-d758-a3cc449bb7d8"
      },
      "execution_count": 16,
      "outputs": [
        {
          "output_type": "stream",
          "name": "stdout",
          "text": [
            "Matriz A:\n",
            " [[1 2]\n",
            " [3 4]]\n",
            "Matriz B:\n",
            " [[5 6]\n",
            " [7 8]]\n"
          ]
        }
      ]
    },
    {
      "cell_type": "code",
      "source": [
        "#Adição de matrizes\n",
        "#C = A + B\n",
        "C = np.add(A, B)\n",
        "print(f'A soma das matrizes é: \\n{C}')"
      ],
      "metadata": {
        "colab": {
          "base_uri": "https://localhost:8080/"
        },
        "id": "TMU6lmQ_qCkQ",
        "outputId": "c8707777-6e38-484a-ff30-acc23071fb8f"
      },
      "execution_count": 17,
      "outputs": [
        {
          "output_type": "stream",
          "name": "stdout",
          "text": [
            "A soma das matrizes é: \n",
            "[[ 6  8]\n",
            " [10 12]]\n"
          ]
        }
      ]
    },
    {
      "cell_type": "code",
      "source": [
        "#Subtração de matrizes\n",
        "#D = A - B\n",
        "D = np.subtract(A, B)\n",
        "\n",
        "print(f'A subtração das matrizes é:\\n{D}')"
      ],
      "metadata": {
        "colab": {
          "base_uri": "https://localhost:8080/"
        },
        "id": "htIcdUk2qXim",
        "outputId": "04ee208d-bd43-4263-a759-07a8479075ac"
      },
      "execution_count": 18,
      "outputs": [
        {
          "output_type": "stream",
          "name": "stdout",
          "text": [
            "A subtração das matrizes é:\n",
            "[[-4 -4]\n",
            " [-4 -4]]\n"
          ]
        }
      ]
    },
    {
      "cell_type": "markdown",
      "source": [
        "## Espaço Vetorial"
      ],
      "metadata": {
        "id": "x0qdZJTHufBW"
      }
    },
    {
      "cell_type": "code",
      "source": [
        "#Espaço Vetorial\n",
        "import numpy as np\n",
        "\n",
        "#Definir dois vetores em R²\n",
        "V1 = np.array([1,2])\n",
        "V2 = np.array([3,4])"
      ],
      "metadata": {
        "id": "MnVNi4muqw-Z"
      },
      "execution_count": 19,
      "outputs": []
    },
    {
      "cell_type": "code",
      "source": [
        "#Soma de vetores\n",
        "soma = V1 + V2\n",
        "print(f'Soma dos vetores:{soma}')"
      ],
      "metadata": {
        "colab": {
          "base_uri": "https://localhost:8080/"
        },
        "id": "T3hW2BnByE5N",
        "outputId": "2530f5ec-ff79-427b-f6a0-82752222a981"
      },
      "execution_count": 20,
      "outputs": [
        {
          "output_type": "stream",
          "name": "stdout",
          "text": [
            "Soma dos vetores:[4 6]\n"
          ]
        }
      ]
    },
    {
      "cell_type": "code",
      "source": [
        "#Multiplicação por escalar\n",
        "escalar = 2\n",
        "multiplicacao = escalar * V1\n",
        "print(f'Multiplicação por escalar: {multiplicacao}')"
      ],
      "metadata": {
        "colab": {
          "base_uri": "https://localhost:8080/"
        },
        "id": "ZA3mWMl6yTHG",
        "outputId": "b20c7d1d-d266-4d6d-df13-873848c85946"
      },
      "execution_count": 21,
      "outputs": [
        {
          "output_type": "stream",
          "name": "stdout",
          "text": [
            "Multiplicação por escalar: [2 4]\n"
          ]
        }
      ]
    },
    {
      "cell_type": "code",
      "source": [
        "#Autovalor e Autovetor\n",
        "#Definição da matriz A\n",
        "A = np.array([[4,-2],\n",
        "              [1,1]])"
      ],
      "metadata": {
        "id": "9i_WtSM-ys8X"
      },
      "execution_count": 23,
      "outputs": []
    },
    {
      "cell_type": "code",
      "source": [
        "#Cálculo dos autovalores e autovetores"
      ],
      "metadata": {
        "id": "Hsw1L9kHy4dt"
      },
      "execution_count": 24,
      "outputs": []
    },
    {
      "cell_type": "code",
      "source": [
        "autovalores, autovetores = np.linalg.eig(A)\n",
        "\n",
        "print(f'Autovalores: {autovalores}')\n",
        "print(f'Autovetores:\\n{autovetores}')"
      ],
      "metadata": {
        "colab": {
          "base_uri": "https://localhost:8080/"
        },
        "id": "UWTGLmURzAEv",
        "outputId": "6a6a47bd-7cfc-4c14-8be0-190951901afb"
      },
      "execution_count": 25,
      "outputs": [
        {
          "output_type": "stream",
          "name": "stdout",
          "text": [
            "Autovalores: [3. 2.]\n",
            "Autovetores:\n",
            "[[0.89442719 0.70710678]\n",
            " [0.4472136  0.70710678]]\n"
          ]
        }
      ]
    },
    {
      "cell_type": "code",
      "source": [],
      "metadata": {
        "id": "zqtFMOXLzUv7"
      },
      "execution_count": null,
      "outputs": []
    }
  ]
}